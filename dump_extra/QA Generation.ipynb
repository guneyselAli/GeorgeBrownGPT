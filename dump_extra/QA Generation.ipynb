{
 "cells": [
  {
   "cell_type": "code",
   "execution_count": 9,
   "metadata": {},
   "outputs": [],
   "source": [
    "import os\n",
    "import pandas as pd\n",
    "import random\n",
    "\n",
    "def create_random_sample(input_folder, output_file):\n",
    "    # Get a list of all CSV files in the input folder\n",
    "    csv_files = [file for file in os.listdir(input_folder) if file.endswith(\".csv\")]\n",
    "\n",
    "    # Initialize an empty DataFrame to store the sampled rows\n",
    "    sampled_data = pd.DataFrame()\n",
    "\n",
    "    # Iterate through each CSV file and sample one random row\n",
    "    for csv_file in csv_files:\n",
    "        file_path = os.path.join(input_folder, csv_file)\n",
    "\n",
    "        # Read the CSV file\n",
    "        df = pd.read_csv(file_path)\n",
    "\n",
    "        # Sample one random row\n",
    "        random_row = df.sample(n=1, random_state=42)  # You can change the random_state if needed\n",
    "\n",
    "        # Append the sampled row to the DataFrame\n",
    "        sampled_data = pd.concat([sampled_data, random_row], ignore_index=True)\n",
    "\n",
    "    # Write the sampled data to a new CSV file\n",
    "    sampled_data.to_csv(output_file, index=False)\n",
    "\n"
   ]
  },
  {
   "cell_type": "code",
   "execution_count": 10,
   "metadata": {},
   "outputs": [],
   "source": [
    "# Specify the input folder containing CSV files and the output file name\n",
    "input_folder = \"qaPairs/otherpages/\"\n",
    "output_file = \"otherpages_QA.csv\"\n",
    "\n",
    "# Call the function to create the random sample\n",
    "create_random_sample(input_folder, output_file)"
   ]
  },
  {
   "cell_type": "code",
   "execution_count": null,
   "metadata": {},
   "outputs": [],
   "source": []
  }
 ],
 "metadata": {
  "kernelspec": {
   "display_name": ".venv",
   "language": "python",
   "name": "python3"
  },
  "language_info": {
   "codemirror_mode": {
    "name": "ipython",
    "version": 3
   },
   "file_extension": ".py",
   "mimetype": "text/x-python",
   "name": "python",
   "nbconvert_exporter": "python",
   "pygments_lexer": "ipython3",
   "version": "3.9.13"
  }
 },
 "nbformat": 4,
 "nbformat_minor": 2
}
