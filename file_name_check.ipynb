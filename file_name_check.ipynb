{
 "cells": [
  {
   "cell_type": "code",
   "execution_count": 74,
   "metadata": {},
   "outputs": [],
   "source": [
    "import os\n",
    "import os.path as path"
   ]
  },
  {
   "cell_type": "code",
   "execution_count": 75,
   "metadata": {},
   "outputs": [
    {
     "data": {
      "text/plain": [
       "'.'"
      ]
     },
     "execution_count": 75,
     "metadata": {},
     "output_type": "execute_result"
    }
   ],
   "source": [
    "os.curdir"
   ]
  },
  {
   "cell_type": "code",
   "execution_count": 76,
   "metadata": {},
   "outputs": [],
   "source": [
    "# Function to get file names without extension\n",
    "def get_file_names_without_extension(files):\n",
    "    return {path.splitext(file)[0] for file in files}"
   ]
  },
  {
   "cell_type": "code",
   "execution_count": null,
   "metadata": {},
   "outputs": [],
   "source": []
  },
  {
   "cell_type": "code",
   "execution_count": 80,
   "metadata": {},
   "outputs": [],
   "source": [
    "files_to_exclude = [\n",
    "    \"Social Media Production  Culture-Based Creativity Program P116  George Brown College2023\",\n",
    "    \"Film Production  Directing for Extended Reality Program P114  George Brown College2023\",\n",
    "    \"Social Media Foundations  Content Creation Program P115  George Brown College2023\",\n",
    "    \"Honours Bachelor of Commerce Supply Chain Management Program B310  George Brown College2023\",\n",
    "    \"Advanced Social Media Production  Auteurism Program P411  George Brown College2023\",\n",
    "    \"People Analytics Program B430  George Brown College2023\",\"log_output\",\".DS_Store\"\n",
    "]"
   ]
  },
  {
   "cell_type": "code",
   "execution_count": 84,
   "metadata": {},
   "outputs": [],
   "source": [
    "year = \"2023\"\n",
    "folder_A_path = f\"./scraped_pages/programpages{year}/\"\n",
    "destination = [f\"./Metadata Extraction/metadata_programpages{year}/\",f\"./qaPairs/programpages{year}/\",f\"./contexts/programpages{year}/\"]\n",
    "\n",
    "# folder_A_path = f\"./scraped_pages/otherpages/\"\n",
    "# destination = [f\"./qaPairs/otherpages/\",f\"./contexts/otherpages/\"]"
   ]
  },
  {
   "cell_type": "code",
   "execution_count": 86,
   "metadata": {},
   "outputs": [
    {
     "name": "stdout",
     "output_type": "stream",
     "text": [
      "Number of files in folder ./scraped_pages/programpages2023/: 217\n",
      "Number of files in folder ./Metadata Extraction/metadata_programpages2023/: 217\n",
      "\n",
      "Files available in A but not in B:\n",
      "\n",
      "Files available in B but not in A:\n",
      "Number of files in folder ./scraped_pages/programpages2023/: 217\n",
      "Number of files in folder ./qaPairs/programpages2023/: 217\n",
      "\n",
      "Files available in A but not in B:\n",
      "\n",
      "Files available in B but not in A:\n",
      "Number of files in folder ./scraped_pages/programpages2023/: 217\n",
      "Number of files in folder ./contexts/programpages2023/: 217\n",
      "\n",
      "Files available in A but not in B:\n",
      "\n",
      "Files available in B but not in A:\n"
     ]
    }
   ],
   "source": [
    "for i in destination:\n",
    "    folder_B_path = i\n",
    "    # List all files in folder A\n",
    "    files_in_A = set(os.listdir(folder_A_path))\n",
    "\n",
    "    # List all files in folder B\n",
    "    files_in_B = set(os.listdir(folder_B_path))\n",
    "\n",
    "    # Get file names without extension\n",
    "    file_names_without_extension_A = get_file_names_without_extension(files_in_A)\n",
    "    file_names_without_extension_B = get_file_names_without_extension(files_in_B)\n",
    "\n",
    "\n",
    "    if year == \"2023\":\n",
    "        # Exclude specified files\n",
    "        for file_to_exclude in files_to_exclude:\n",
    "            file_names_without_extension_A.discard(file_to_exclude)\n",
    "            file_names_without_extension_B.discard(file_to_exclude)\n",
    "\n",
    "    # Number of files in folder A and B\n",
    "    num_files_in_A = len(file_names_without_extension_A)\n",
    "    num_files_in_B = len(file_names_without_extension_B)\n",
    "\n",
    "    # Files available in A but not in B\n",
    "    files_only_in_A = file_names_without_extension_A - file_names_without_extension_B\n",
    "\n",
    "    # Files available in B but not in A\n",
    "    files_only_in_B = file_names_without_extension_B - file_names_without_extension_A\n",
    "\n",
    "    # Print the results\n",
    "    print(f\"Number of files in folder {folder_A_path}: {num_files_in_A}\")\n",
    "    print(f\"Number of files in folder {folder_B_path}: {num_files_in_B}\")\n",
    "\n",
    "    print(\"\\nFiles available in A but not in B:\")\n",
    "    for file_name in files_only_in_A:\n",
    "        print(file_name)\n",
    "\n",
    "    print(\"\\nFiles available in B but not in A:\")\n",
    "    for file_name in files_only_in_B:\n",
    "        print(file_name)"
   ]
  },
  {
   "cell_type": "code",
   "execution_count": null,
   "metadata": {},
   "outputs": [],
   "source": []
  },
  {
   "cell_type": "code",
   "execution_count": null,
   "metadata": {},
   "outputs": [],
   "source": []
  }
 ],
 "metadata": {
  "kernelspec": {
   "display_name": "base",
   "language": "python",
   "name": "python3"
  },
  "language_info": {
   "codemirror_mode": {
    "name": "ipython",
    "version": 3
   },
   "file_extension": ".py",
   "mimetype": "text/x-python",
   "name": "python",
   "nbconvert_exporter": "python",
   "pygments_lexer": "ipython3",
   "version": "3.8.8"
  }
 },
 "nbformat": 4,
 "nbformat_minor": 2
}
