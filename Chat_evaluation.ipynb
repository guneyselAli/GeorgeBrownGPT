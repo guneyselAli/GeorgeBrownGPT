{
 "cells": [
  {
   "cell_type": "code",
   "execution_count": 5,
   "metadata": {},
   "outputs": [],
   "source": [
    "from tonic_validate import ValidateApi, ValidateScorer, Benchmark, LLMResponse\n",
    "from tonic_validate.metrics import AnswerConsistencyMetric,AnswerSimilarityMetric,AugmentationAccuracyMetric,AugmentationPrecisionMetric,RetrievalPrecisionMetric"
   ]
  },
  {
   "cell_type": "code",
   "execution_count": null,
   "metadata": {},
   "outputs": [],
   "source": [
    "benchmark = Benchmark(\n",
    "    questions=[\"What is the capital of France?\"],\n",
    "    answers=[\"Paris\"]\n",
    ")\n",
    "responses = []\n",
    "for item in benchmark:\n",
    "    # llm_answer is the answer that LLM gives\n",
    "    # llm_context_list is a list of the context that the LLM used to answer the question\n",
    "    llm_response = LLMResponse(\n",
    "        llm_answer=\"Paris\",\n",
    "        llm_context_list=[\"Paris is the capital of France.\"],\n",
    "        benchmark_item=item\n",
    "    )\n",
    "    responses.append(llm_response)\n",
    "\n",
    "# To see more metric options go to https://github.com/TonicAI/tonic_validate\n",
    "scorer = ValidateScorer([\n",
    "    AnswerConsistencyMetric(),\n",
    "    AnswerSimilarityMetric(),\n",
    "    AugmentationAccuracyMetric(),\n",
    "    AugmentationPrecisionMetric(),\n",
    "    RetrievalPrecisionMetric()\n",
    "])"
   ]
  }
 ],
 "metadata": {
  "kernelspec": {
   "display_name": ".venv",
   "language": "python",
   "name": "python3"
  },
  "language_info": {
   "codemirror_mode": {
    "name": "ipython",
    "version": 3
   },
   "file_extension": ".py",
   "mimetype": "text/x-python",
   "name": "python",
   "nbconvert_exporter": "python",
   "pygments_lexer": "ipython3",
   "version": "3.9.13"
  }
 },
 "nbformat": 4,
 "nbformat_minor": 2
}
