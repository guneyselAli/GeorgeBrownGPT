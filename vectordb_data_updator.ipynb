{
 "cells": [
  {
   "cell_type": "code",
   "execution_count": 1,
   "id": "ed4c13df",
   "metadata": {},
   "outputs": [],
   "source": [
    "import json\n",
    "import pandas as pd\n",
    "import os\n",
    "\n",
    "from qdrant_client import QdrantClient\n",
    "from langchain.schema import Document\n",
    "from qdrant_client.http import models\n",
    "\n",
    "from tqdm.auto import tqdm"
   ]
  },
  {
   "cell_type": "code",
   "execution_count": 2,
   "id": "650add69",
   "metadata": {},
   "outputs": [],
   "source": [
    "def get_files(start_path):\n",
    "    paths = []\n",
    "    for root, dirs, files in os.walk(start_path):\n",
    "        for file in files:\n",
    "            if file != \".DS_Store\":\n",
    "                paths.append(os.path.join(root, file))\n",
    "\n",
    "    return paths"
   ]
  },
  {
   "cell_type": "code",
   "execution_count": 3,
   "id": "8e0412fc",
   "metadata": {},
   "outputs": [],
   "source": [
    "CONTEXT_PARENT_FOLDER = \"contexts\"\n",
    "METADATA_PARENT_FOLDER = \"Metadata Extraction/metadata\"\n",
    "\n",
    "COLLECTION_NAME = \"georgebrown-v2\"\n",
    "VECTOR_SIZE = 384\n",
    "DB_FILE = \"vector_db_v5\""
   ]
  },
  {
   "cell_type": "code",
   "execution_count": 4,
   "id": "e76c77a2",
   "metadata": {},
   "outputs": [],
   "source": [
    "contexts = get_files(CONTEXT_PARENT_FOLDER)"
   ]
  },
  {
   "cell_type": "code",
   "execution_count": 5,
   "id": "74d23abf",
   "metadata": {},
   "outputs": [],
   "source": [
    "\n",
    "metadata = get_files(METADATA_PARENT_FOLDER)"
   ]
  },
  {
   "cell_type": "code",
   "execution_count": 6,
   "id": "7c50becd",
   "metadata": {},
   "outputs": [
    {
     "data": {
      "text/plain": [
       "['contexts/otherpages/How to Pay for College  George Brown College.csv',\n",
       " 'contexts/otherpages/Industry Liaison Office  George Brown College.csv',\n",
       " 'contexts/otherpages/Degree Programs  George Brown College.csv',\n",
       " 'contexts/otherpages/News and Announcements for Current Students  George Brown College.csv',\n",
       " 'contexts/otherpages/HS fact - programs with clinical placement  George Brown College.csv']"
      ]
     },
     "execution_count": 6,
     "metadata": {},
     "output_type": "execute_result"
    }
   ],
   "source": [
    "contexts[:5]"
   ]
  },
  {
   "cell_type": "code",
   "execution_count": 7,
   "id": "90d68d1a",
   "metadata": {},
   "outputs": [
    {
     "data": {
      "text/plain": [
       "['Metadata Extraction/metadata/programpages2024/Financial Planning Program Postgraduate B407  George Brown College2024.json',\n",
       " 'Metadata Extraction/metadata/programpages2024/Advanced Manufacturing Program T414  George Brown College2024.json',\n",
       " 'Metadata Extraction/metadata/programpages2024/Honours Bachelor of Food Studies Program Bridging H318  George Brown College2024.json',\n",
       " 'Metadata Extraction/metadata/programpages2024/Honours Bachelor of Behaviour Analysis Program Year 3 Bridge S303  George Brown College2024.json',\n",
       " 'Metadata Extraction/metadata/programpages2024/Honours Bachelor of Business Administration Program Business Analytics B303  George Brown College2024.json']"
      ]
     },
     "execution_count": 7,
     "metadata": {},
     "output_type": "execute_result"
    }
   ],
   "source": [
    "metadata[:5]"
   ]
  },
  {
   "cell_type": "code",
   "execution_count": 8,
   "id": "d581976c",
   "metadata": {},
   "outputs": [],
   "source": [
    "from langchain.embeddings import SentenceTransformerEmbeddings\n",
    "from langchain.vectorstores import Qdrant\n"
   ]
  },
  {
   "cell_type": "code",
   "execution_count": 9,
   "id": "b65e67eb",
   "metadata": {},
   "outputs": [],
   "source": [
    "embeddings = SentenceTransformerEmbeddings(model_name='sentence-transformer-finetuned/georgebrown-v2-embeddings')"
   ]
  },
  {
   "cell_type": "code",
   "execution_count": 10,
   "id": "dab20470",
   "metadata": {},
   "outputs": [
    {
     "data": {
      "text/plain": [
       "HuggingFaceEmbeddings(client=SentenceTransformer(\n",
       "  (0): Transformer({'max_seq_length': 256, 'do_lower_case': False}) with Transformer model: BertModel \n",
       "  (1): Pooling({'word_embedding_dimension': 384, 'pooling_mode_cls_token': False, 'pooling_mode_mean_tokens': True, 'pooling_mode_max_tokens': False, 'pooling_mode_mean_sqrt_len_tokens': False})\n",
       "  (2): Normalize()\n",
       "), model_name='sentence-transformer-finetuned/georgebrown-v2-embeddings', cache_folder=None, model_kwargs={}, encode_kwargs={}, multi_process=False)"
      ]
     },
     "execution_count": 10,
     "metadata": {},
     "output_type": "execute_result"
    }
   ],
   "source": [
    "embeddings"
   ]
  },
  {
   "cell_type": "code",
   "execution_count": 11,
   "id": "7cc9d531",
   "metadata": {
    "scrolled": true
   },
   "outputs": [],
   "source": [
    "\n",
    "qdrant_client = QdrantClient(path=DB_FILE)"
   ]
  },
  {
   "cell_type": "code",
   "execution_count": 12,
   "id": "b9dd5597",
   "metadata": {},
   "outputs": [
    {
     "data": {
      "text/plain": [
       "True"
      ]
     },
     "execution_count": 12,
     "metadata": {},
     "output_type": "execute_result"
    }
   ],
   "source": [
    "qdrant_client.create_collection(\n",
    "    collection_name=COLLECTION_NAME,\n",
    "    vectors_config=models.VectorParams(size=VECTOR_SIZE, distance=models.Distance.COSINE),\n",
    ")\n"
   ]
  },
  {
   "cell_type": "code",
   "execution_count": 13,
   "id": "268bfdd8",
   "metadata": {
    "scrolled": true
   },
   "outputs": [],
   "source": [
    "qdrant = Qdrant(qdrant_client, COLLECTION_NAME, embeddings)"
   ]
  },
  {
   "cell_type": "code",
   "execution_count": 14,
   "id": "b43b76cd",
   "metadata": {},
   "outputs": [],
   "source": [
    "def insertOtherPages(context_df):\n",
    "    \n",
    "    metadata = {\"is_program_page\": False}\n",
    "    documents = [Document(page_content=row[\"Context\"], metadata=metadata) for _, row in context_df.iterrows()]\n",
    "    qdrant.add_documents(documents)\n"
   ]
  },
  {
   "cell_type": "code",
   "execution_count": 15,
   "id": "a4554247",
   "metadata": {},
   "outputs": [],
   "source": [
    "def insertProgramPages(context_df, metadata_json, year):\n",
    "    \n",
    "    for _, row in context_df.iterrows():\n",
    "        \n",
    "        metadata = {\"is_program_page\": True}\n",
    "        metadata.update(metadata_json)\n",
    "        documents = [Document(page_content=row[\"Context\"], metadata=metadata) for _, row in context_df.iterrows()]\n",
    "    \n",
    "    qdrant.add_documents(documents)"
   ]
  },
  {
   "cell_type": "code",
   "execution_count": 16,
   "id": "863f296c",
   "metadata": {
    "scrolled": true
   },
   "outputs": [
    {
     "data": {
      "application/vnd.jupyter.widget-view+json": {
       "model_id": "91fb385cf9c24c84bf1c727d56e914d3",
       "version_major": 2,
       "version_minor": 0
      },
      "text/plain": [
       "  0%|          | 0/1642 [00:00<?, ?it/s]"
      ]
     },
     "metadata": {},
     "output_type": "display_data"
    }
   ],
   "source": [
    "for context_path in tqdm(contexts):\n",
    "    context_df = pd.read_csv(context_path)\n",
    "    \n",
    "    \n",
    "    metadata_path = context_path.replace(CONTEXT_PARENT_FOLDER, METADATA_PARENT_FOLDER)\n",
    "    metadata_path = metadata_path.replace(\".csv\", \".json\")\n",
    "    \n",
    "    if metadata_path not in metadata:\n",
    "        insertOtherPages(context_df)\n",
    "# #         break\n",
    "        continue\n",
    "    \n",
    "    \n",
    "    fp = open(metadata_path, \"r\")\n",
    "    metadata_dict = json.load(fp)\n",
    "    fp.close()\n",
    "    \n",
    "#     print(metadata_dict.get(\"Program Information\").get(\"Program Name\"), \"\\n\")\n",
    "\n",
    "    year = 2024 if \"programpages2024\" in context_path else 2023\n",
    "#         print(context_path, context_df.columns, context_df.shape)\n",
    "    insertProgramPages(context_df, metadata_dict, year)\n",
    "    \n",
    "    \n",
    "        "
   ]
  },
  {
   "cell_type": "code",
   "execution_count": 91,
   "id": "e212f4a6",
   "metadata": {},
   "outputs": [
    {
     "data": {
      "text/plain": [
       "{'is_program_page': False}"
      ]
     },
     "execution_count": 91,
     "metadata": {},
     "output_type": "execute_result"
    }
   ],
   "source": [
    "resd[0].payload.get(\"metadata\")"
   ]
  },
  {
   "cell_type": "code",
   "execution_count": 21,
   "id": "590ffcfe",
   "metadata": {},
   "outputs": [],
   "source": [
    "def clean_contexts():\n",
    "    query = \"There is no specific factual information related to programs offered by the college in the given text.\"\n",
    "    vec = embeddings.embed_query(query)\n",
    "    resd = qdrant_client.search(\n",
    "        collection_name=COLLECTION_NAME,\n",
    "        query_vector=vec,\n",
    "        limit = 1000,\n",
    "        score_threshold=0.50\n",
    "    )\n",
    "    \n",
    "    invalid_contexts = [point.id for point in resd]\n",
    "    \n",
    "    qdrant_client.delete(\n",
    "        collection_name=COLLECTION_NAME,\n",
    "        points_selector=models.PointIdsList(\n",
    "            points=invalid_contexts,\n",
    "        ),\n",
    "    )"
   ]
  },
  {
   "cell_type": "code",
   "execution_count": 22,
   "id": "15734147",
   "metadata": {},
   "outputs": [],
   "source": [
    "deleted_contexts = clean_contexts()"
   ]
  },
  {
   "cell_type": "code",
   "execution_count": 31,
   "id": "492cb173",
   "metadata": {},
   "outputs": [],
   "source": [
    "from qdrant_client.http import models as rest\n",
    "\n",
    "query = \"Courses available in Applied AI program\"\n",
    "\n",
    "q_filter = models.Filter(\n",
    "    must=[\n",
    "        models.FieldCondition(\n",
    "            key=\"metadata.is_program_page\",\n",
    "            match=models.MatchValue(\n",
    "                value=True\n",
    "            ),\n",
    "        )\n",
    "    ]\n",
    ")\n",
    "found_docs = qdrant.similarity_search(query,filter=q_filter)"
   ]
  },
  {
   "cell_type": "code",
   "execution_count": 32,
   "id": "6bd70114",
   "metadata": {},
   "outputs": [
    {
     "data": {
      "text/plain": [
       "[Document(page_content=\" The text provides information about various courses offered under different programs at the college, primarily in the field of Data Science, Machine Learning, Deep Learning, and Information Systems Business Analysis. Here's the extracted information:\\n\\nPrograms:\\n- T177 Computer Programming and Analysis\\n- T405 Information Systems Business Analysis Program (with Experiential Learning Capstone)\\n- T430 Mobile Application Development and Strategy\\n- T445 Cloud Computing Technologies Program (Postgraduate)\\n- Computer Science (university level)\\n- Computer Engineering (university level)\\n\\nCourses in Semester 1:\\n1. AASD 4000 - Machine Learning I\\n2. AASD 4001 - Applied Mathematical Concepts for Machine Learning\\n3. AASD 4002 - Foundations of Data Management\\n4. AASD 4003 - Ethics and Law for Data Science\\n5. AASD 4004 - Machine Learning II\\n6. AASD 4008 - Big Data Tools and Techniques I\\n7. AASD 4006 - Data Visualization Techniques\\n8. AASD 4007 - Design Thinking for AI Solutions\\n\\nCourses in Semester 2:\\n1. AASD 4010 - Deep Learning I\\n2. AASD 4011 - Applied Mathematical Concepts for Deep Learning\\n3. AASD 4009 - Big Data Tools and Techniques II\\n4. AASD 4013 - Agile Project Management Methodologies\\n5. AASD 4014 - Deep Learning II\\n6. AASD 4015 - Advanced Applied Mathematical Concepts for Deep Learning\\n7. AASD 4016 - Full Stack Data Science Systems\\n8. AASD 4017 - Presenting Data Science-driven Solutions\\n9. COMP 4064 - Career Planning and Portfolio Development\\n\\nProgram Learning Outcomes:\\n1. Identify, evaluate and manage relevant data sources to support data analytics and to meet organizational needs.\\n2. Recommend different systems, architectures and data storage technologies to support data-driven solutions.\\n3. Develop and deploy complete machine learning/deep learning production systems for a variety of industry use cases that meet the needs of a specific operational/business process.\\n4. Assess and apply appropriate mathematical models, algorithms, tools and frameworks to develop AI-enabled, industry-specific solutions.\\n5. Design and present AI solutions effectively to stakeholders through the use of data visualizations.\\n6. Apply legal, ethical, privacy and security-related standards and considerations in data science projects in a manner that protects privacy and confidentiality, addresses data bias and transparency and complies with relevant regulations.\", metadata={'is_program_page': True, 'Program Information': {'Program Name': 'Applied A.I. Solutions Development', 'Code': 'T431', 'Credential': 'Ontario College Graduate Certificate', 'Method of Study': 'Full-time', 'Duration': '1 year (3 semesters)', 'Starting Months': 'January, September', 'Domestic Tuition': '$8,673.00 * ‡', 'International Tuition': '$18,443.00 ** ‡', 'Centre': 'Arts, Design & Information Technology', 'School': 'Computer Technology', 'Location': 'Casa Loma Campus', 'Experiential Learning': 'Mandatory Co-op or Work Integrated\\xa0Project'}, 'Availability': [{'Semester': 'Fall', 'Year': '2024', 'Intake': 'Domestic', 'Availability': 'open'}, {'Semester': 'Fall', 'Year': '2024', 'Intake': 'International', 'Availability': 'open'}, {'Semester': 'Winter', 'Year': '2025', 'Intake': 'Domestic', 'Availability': 'open'}, {'Semester': 'Winter', 'Year': '2025', 'Intake': 'International', 'Availability': 'opens apr 8, 2024'}, {'Semester': 'Spring', 'Year': '2025', 'Intake': 'Domestic', 'Availability': 'not available'}, {'Semester': 'Spring', 'Year': '2025', 'Intake': 'International', 'Availability': 'not available'}], 'Contact Related Information': {'Contact': 'School of Computer Technology', 'Contact email': 'computertechnology@georgebrown.ca', 'Phone': '416-415-5000, ext. 4287', 'Office Hours': 'Monday – Friday: 9 a.m. – 4 p.m.', 'Program Co-ordinator': 'Moe Fadaee', 'Co-ordinator email': 'Moe.Fadaee@georgebrown.ca', 'Co-ordinator Phone': '416-415-5000, ext. 3229'}}),\n",
       " Document(page_content=' Program Name: Artificial Intelligence\\nCourse Code: ELNC 9121\\nCourses Offered: Autonomous Robots\\nTuition and Fees:\\n- Domestic Students: $1,660.00 (Fall 2022)\\n  - Registration Fee: $490 (includes learning materials, software, user guide, and Module 1)\\n  - Module fee: $90/module for the remaining 13 modules\\n- International Students: US$490 (same fees but in U.S. dollars)\\nAdditional Costs: None mentioned\\nFinancial Assistance: Not eligible for OSAP funding\\nAdmission Requirements:\\n- Ontario Secondary School Diploma or equivalent\\n- Grade 12 English: C or U\\n- Grade 11 math: M or U, or grade 12: C or U\\n- Mature student status (19 years of age or older)\\nSpecial Requirements:\\n- Online distance program for international students is only available while remaining in their home country and does not qualify for study/work permit eligibility in Canada.\\n- Minimum system requirements: Pentium-based PC, 512MB RAM (recommended 1GB), 250MB available hard disk space, Windows 7/8/8.1/10/11, email account, and Internet access.', metadata={'is_program_page': True, 'Program Information': {'Program Name': 'Robotics Technician', 'Code': 'T948', 'Credential': 'George Brown College Certificate', 'Method of Study': 'Part-time', 'Duration': '28 weeks (approximately)', 'Starting Months': 'Open enrolment', 'Domestic Tuition': '$1,660.00*', 'Centre': 'Construction & Engineering Technologies', 'School': 'Mechanical Engineering Technologies', 'Location': 'Online', 'Fall 2023 Delivery': 'Online'}, 'Availability': [{'Semester': 'Fall', 'Year': '2023', 'Intake': 'Domestic', 'Availability': 'continuous open enrollment'}, {'Semester': 'Fall', 'Year': '2023', 'Intake': 'International', 'Availability': 'open: not study permit eligible'}, {'Semester': 'Winter', 'Year': '2024', 'Intake': 'Domestic', 'Availability': 'continuous open enrollment'}, {'Semester': 'Winter', 'Year': '2024', 'Intake': 'International', 'Availability': 'open: not study permit eligible'}, {'Semester': 'Spring', 'Year': '2024', 'Intake': 'Domestic', 'Availability': 'continuous open enrollment'}, {'Semester': 'Spring', 'Year': '2024', 'Intake': 'International', 'Availability': 'open: not study permit eligible'}], 'Contact Related Information': {'Contact': 'INTERNATIONAL STUDENTS', 'Contact methods': {'Phone': ['416-415-4726', '1-888-553-5333'], 'Email': 'info@gbctechtraining.com'}, 'Related Programs': [{'Name': 'Electromechanical Engineering Technician (T146)'}, {'Name': 'Mechanical Engineering Technology – Design (T121)'}, {'Name': 'Electromechanical Engineering Technology – Building Automation (T171)'}]}}),\n",
       " Document(page_content=' Program Information:\\n- The program offers advanced technical abilities with a focus on communication, teamwork, and client service skills.\\n- Students will learn about project-based and experiential learning, AI and machine-learning strategies and development, mobile application development, full-stack development, software development life cycle and methodologies, and database management.\\n- Changes to the program may occur and are made in consultation with the Program Advisory Committee.\\n- Required computer specifications: 16 GB RAM minimum, 256 GB SSD Hard Drive (500+ GB is optimal), Quad-core i7 2.4GHz or better, Video card (2GB RAM minimum/4GB RAM recommended), and a webcam.\\n- Career opportunities include database administration, systems analysis and design, consulting, application design and development, web application design and development, data architect (AI/ Machine Learning), full-stack developer, mobile application developer, and many others.\\n- Graduates may find systems development work for corporate clients and smaller contract companies as programmer analysts.\\n- Transfer credits are available towards further study to attain a degree.\\n\\nRequired Courses:\\n- Semester 1: COMP 1151 (IT Essentials), COMP 1236 (Fundamentals of Computing Logic), COMP 1234 (Introduction To Web Development), GSSC 1027 (Personal Finance), MATH 1162 (Mathematics for Computer Technology I), COMM 2000 (Communicating Across Contexts).\\n- Semester 2: COMP 1168 (Database Management), COMP 1202 (Object-Oriented Programming), COMP 1235 (Introduction To Full-Stack Development), COMP 3044 (Linux Essentials), MATH 1172 (Mathematics for Computer Technology II).\\n\\nNote: Enrolling in January requires completion of semester 2 from May to August of the same year.', metadata={'is_program_page': True, 'Program Information': {'Program Name': 'Computer Programming and Analysis', 'Code': 'T177', 'Credential': 'Ontario College Advanced Diploma', 'Method of Study': 'Full-time', 'Duration': '3 years (6 semesters)', 'Starting Months': 'January, September', 'Domestic Tuition': '$4,334.00 *', 'International Tuition': '$18,383.00 **', 'Centre': 'Arts, Design & Information Technology', 'School': 'Computer Technology', 'Location': 'Casa Loma Campus'}, 'Availability': [{'Semester': 'Fall', 'Year': '2024', 'Intake': 'Domestic', 'Availability': 'open'}, {'Semester': 'Fall', 'Year': '2024', 'Intake': 'International', 'Availability': 'open'}, {'Semester': 'Winter', 'Year': '2025', 'Intake': 'Domestic', 'Availability': 'open'}, {'Semester': 'Winter', 'Year': '2025', 'Intake': 'International', 'Availability': 'opens apr 8, 2024'}, {'Semester': 'Spring', 'Year': '2025', 'Intake': 'Domestic', 'Availability': 'not available'}, {'Semester': 'Spring', 'Year': '2025', 'Intake': 'International', 'Availability': 'not available'}], 'Contact Related Information': {'Contact': 'School of Computer Technology', 'Contact email': 'computertechnology@georgebrown.ca', 'Phone': '416-415-5000, ext. 4287', 'Office Hours': 'Monday – Friday: 9 a.m. – 4 p.m.', 'Program Co-ordinator': 'Maziar Masoudi', 'Co-ordinator email': 'mmasoudi@georgebrown.ca', 'Co-ordinator Phone': '416-415-5000, ext. 3345'}}),\n",
       " Document(page_content=' The text provides information about the growth of the video game industry in Canada, with 472 active studios located primarily in Quebec (29.4%), British Columbia (27.1%), and Ontario (22.9%). There is a BSc (Honours) Computer Games Design program available at the University of Gloucestershire for graduates of Game Programming. The curriculum for this program includes courses such as Introduction to Programming, Advanced Programming, Artificial Intelligence, Data Structures & Algorithms, and Game Production I-VI. Additional courses mentioned include 3D Graphics Programming, Mobile Game Development I, Console Game Development I, Multiplayer Systems, and Game Engines I-III. The program also includes General Education Electives in various semesters and Professional Workplace Competencies in Semester 5.', metadata={'is_program_page': True, 'Program Information': {'Program Name': 'Game – Programming', 'Code': 'T163', 'Credential': 'Ontario College Advanced Diploma', 'Method of Study': 'Full-time', 'Duration': '3 years (6 semesters)', 'Starting Months': 'January, September', 'Domestic Tuition': '$3,931.00 *', 'International Tuition': '$17,565.00 **', 'Centre': 'Arts, Design & Information Technology', 'School': 'Computer Technology', 'Location': 'Waterfront Campus', 'Fall 2023 Delivery': 'Semester 1: Hybrid; Semester 3, 5: On Campus', 'Winter 2024 Delivery': 'Semester 1, 2, 4: Hybrid; Semester 6: On Campus'}, 'Availability': [{'Semester': 'Fall', 'Year': '2023', 'Intake': 'Domestic', 'Availability': 'closed'}, {'Semester': 'Fall', 'Year': '2023', 'Intake': 'International', 'Availability': 'closed'}, {'Semester': 'Winter', 'Year': '2024', 'Intake': 'Domestic', 'Availability': 'closed'}, {'Semester': 'Winter', 'Year': '2024', 'Intake': 'International', 'Availability': 'closed'}, {'Semester': 'Spring', 'Year': '2024', 'Intake': 'Domestic', 'Availability': 'not available'}, {'Semester': 'Spring', 'Year': '2024', 'Intake': 'International', 'Availability': 'not available'}], 'Contact Related Information': {'Contact': 'School of Computer Technology', 'Location': '3 Lower Jarvis St., Room 260', 'Phone': ['416-415-5000, ext. 4287', '416-415-5000, ext. 3129'], 'Contact email': ['computertechnology@georgebrown.ca', 'game@georgebrown.ca'], 'Office Hours': 'Monday – Friday: 9 a.m. – 4 p.m.', 'Program Co-ordinator': 'Alexander Richard', 'Co-ordinator email': 'arichard6@georgebrown.ca', 'Co-ordinator Phone': '416-415-5000, ext. 4232'}})]"
      ]
     },
     "execution_count": 32,
     "metadata": {},
     "output_type": "execute_result"
    }
   ],
   "source": [
    "found_docs"
   ]
  },
  {
   "cell_type": "code",
   "execution_count": 41,
   "id": "0d86e217",
   "metadata": {},
   "outputs": [],
   "source": [
    "client.scroll(\n",
    "    collection_name=\"{collection_name}\",\n",
    "    scroll_filter=models.Filter(\n",
    "        must=[\n",
    "            models.FieldCondition(\n",
    "                key=\"diet[].food\", match=models.MatchValue(value=\"meat\")\n",
    "            ),\n",
    "            models.FieldCondition(\n",
    "                key=\"diet[].likes\", match=models.MatchValue(value=True)\n",
    "            ),\n",
    "        ],\n",
    "    ),\n",
    ")"
   ]
  },
  {
   "cell_type": "code",
   "execution_count": null,
   "id": "e3581e59",
   "metadata": {},
   "outputs": [],
   "source": []
  }
 ],
 "metadata": {
  "kernelspec": {
   "display_name": "Python 3 (ipykernel)",
   "language": "python",
   "name": "python3"
  },
  "language_info": {
   "codemirror_mode": {
    "name": "ipython",
    "version": 3
   },
   "file_extension": ".py",
   "mimetype": "text/x-python",
   "name": "python",
   "nbconvert_exporter": "python",
   "pygments_lexer": "ipython3",
   "version": "3.11.4"
  }
 },
 "nbformat": 4,
 "nbformat_minor": 5
}
