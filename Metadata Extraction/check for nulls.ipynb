{
 "cells": [
  {
   "cell_type": "code",
   "execution_count": 7,
   "metadata": {},
   "outputs": [],
   "source": [
    "import os\n",
    "import json\n",
    "import shutil\n",
    "\n",
    "def check_null_values_and_copy_txt_files(json_folder, txt_folder):\n",
    "    # List all files in the JSON folder\n",
    "    json_files = [f for f in os.listdir(json_folder) if f.endswith('.json')]\n",
    "\n",
    "    # Create a new folder to copy files with null values\n",
    "    null_values_folder = os.path.join(str(txt_folder)+\"_files_with_null_values1\")\n",
    "    os.makedirs(null_values_folder, exist_ok=True)\n",
    "\n",
    "    for json_file_name in json_files:\n",
    "        json_file_path = os.path.join(json_folder, json_file_name)\n",
    "\n",
    "        # Open the JSON file\n",
    "        with open(json_file_path, 'r', encoding='utf-8') as json_file:\n",
    "            try:\n",
    "                # Load JSON data from the file\n",
    "                data = json.load(json_file)\n",
    "\n",
    "                # Check for null values in the JSON data\n",
    "                if contains_null_values(data):\n",
    "                    print(f\"File: {json_file_name} contains null values. Copying related TXT file to {null_values_folder}\")\n",
    "                    copy_txt_file(json_file_name, txt_folder, null_values_folder)\n",
    "            except json.JSONDecodeError as e:\n",
    "                print(f\"Error decoding JSON in file {json_file_name}: {e}\")\n",
    "\n",
    "def contains_null_values(data):\n",
    "    if isinstance(data, dict):\n",
    "        for key, value in data.items():\n",
    "            if value is None:\n",
    "                return True\n",
    "            if contains_null_values(value):\n",
    "                return True\n",
    "    elif isinstance(data, list):\n",
    "        for item in data:\n",
    "            if contains_null_values(item):\n",
    "                return True\n",
    "    return False\n",
    "\n",
    "def copy_txt_file(json_file_name, txt_folder, destination_folder):\n",
    "    # Change the extension from .json to .txt\n",
    "    txt_file_name = os.path.splitext(json_file_name)[0] + '.txt'\n",
    "    txt_file_path = os.path.join(txt_folder, txt_file_name)\n",
    "\n",
    "    # Copy the corresponding .txt file to the destination folder\n",
    "    shutil.copy2(txt_file_path, destination_folder)\n",
    "\n",
    "# Example: Check null values in JSON files and copy related TXT files\n",
    "json_folder_name = \"metadata_programpages2024\"\n",
    "txt_folder_name = \"programpages2024\"\n",
    "\n",
    "check_null_values_and_copy_txt_files(json_folder_name, txt_folder_name)\n"
   ]
  },
  {
   "cell_type": "code",
   "execution_count": null,
   "metadata": {},
   "outputs": [],
   "source": []
  }
 ],
 "metadata": {
  "kernelspec": {
   "display_name": ".venv",
   "language": "python",
   "name": "python3"
  },
  "language_info": {
   "codemirror_mode": {
    "name": "ipython",
    "version": 3
   },
   "file_extension": ".py",
   "mimetype": "text/x-python",
   "name": "python",
   "nbconvert_exporter": "python",
   "pygments_lexer": "ipython3",
   "version": "3.9.13"
  }
 },
 "nbformat": 4,
 "nbformat_minor": 2
}
