{
 "cells": [
  {
   "cell_type": "code",
   "execution_count": 17,
   "metadata": {},
   "outputs": [],
   "source": [
    "from transformers import AutoTokenizer, AutoModelForCausalLM\n",
    "import torch"
   ]
  },
  {
   "cell_type": "code",
   "execution_count": 18,
   "metadata": {},
   "outputs": [],
   "source": [
    "from langchain_community.llms import Ollama\n",
    "from langchain_core.output_parsers import JsonOutputParser\n",
    "from langchain.prompts import PromptTemplate"
   ]
  },
  {
   "cell_type": "code",
   "execution_count": 19,
   "metadata": {},
   "outputs": [],
   "source": [
    "prompt_temp1 = \"\"\"\"\n",
    "You are a helpful AI model. Your task is to extract all key information from the given text and present it in a structured format. Here are some examples:\n",
    "\n",
    "Example 1:\n",
    "Input:\n",
    "Contact Us\n",
    "School of Deaf and Deafblind Studies\n",
    "Email:\n",
    "communityservices@georgebrown.ca\n",
    "Our office hours are 8 a.m. – 4 p.m.\n",
    "Erika Stebbings, ASL & Deaf Studies Program Co-ordinator\n",
    "Email:\n",
    "erika.stebbings@georgebrown.ca\n",
    "\n",
    "Output:\n",
    "{\n",
    "\"Contact\": \"School of Deaf and Deafblind Studies\",\n",
    "\"Contact email\": \"communityservices@georgebrown.ca\",\n",
    "\"Office Hours\": \"8 a.m. – 4 p.m\",\n",
    "\"Program Co-ordinator\": \"Erika Stebbings\",\n",
    "\"Co-ordinator email\": \"erika.stebbings@georgebrown.ca\"\n",
    "}\n",
    "\n",
    "Example 2:\n",
    "Input:\n",
    "Contact Us\n",
    "School of Computer Technology\n",
    "Phone: 416-415-5000, ext. 4287\n",
    "Email:\n",
    "computertechnology@georgebrown.ca\n",
    "The office hours are:\n",
    "Monday – Friday: 9 a.m. – 4 p.m.\n",
    "Program Co-ordinator: Moe Fadaee\n",
    "Email:\n",
    "Moe.Fadaee@georgebrown.ca\n",
    "Phone: 416-415-5000, ext. 3229\n",
    "\n",
    "Output:\n",
    "{\n",
    "\"Contact\": \"School of Computer Technology\",\n",
    "\"Contact email\": \"computertechnology@georgebrown.ca\",\n",
    "\"Phone\": \"416-415-5000, ext. 4287\",\n",
    "\"Office Hours\": \"Monday – Friday: 9 a.m. – 4 p.m.\",\n",
    "\"Program Co-ordinator\": \"Moe Fadaee\",\n",
    "\"Co-ordinator email\": \"Moe.Fadaee@georgebrown.ca\",\n",
    "\"Co-ordinator Phone\": \"416-415-5000, ext. 3229\"\n",
    "}\n",
    "\n",
    "Now, extract the key information from the following text:\"\"\"\n"
   ]
  },
  {
   "cell_type": "code",
   "execution_count": 20,
   "metadata": {},
   "outputs": [],
   "source": [
    "def extract_contact(base_url1,chunk):\n",
    "    prompt_temp1 = \"\"\"\"\n",
    "    You are a helpful AI model. Your task is to extract all key information from the given text and present it in a structured format. Here are some examples:\n",
    "\n",
    "    Example 1:\n",
    "    Input:\n",
    "    Contact Us\n",
    "    School of Deaf and Deafblind Studies\n",
    "    Email:\n",
    "    communityservices@georgebrown.ca\n",
    "    Our office hours are 8 a.m. – 4 p.m.\n",
    "    Erika Stebbings, ASL & Deaf Studies Program Co-ordinator\n",
    "    Email:\n",
    "    erika.stebbings@georgebrown.ca\n",
    "\n",
    "    Output:\n",
    "    {\n",
    "    \"Contact\": \"School of Deaf and Deafblind Studies\",\n",
    "    \"Contact email\": \"communityservices@georgebrown.ca\",\n",
    "    \"Office Hours\": \"8 a.m. – 4 p.m\",\n",
    "    \"Program Co-ordinator\": \"Erika Stebbings\",\n",
    "    \"Co-ordinator email\": \"erika.stebbings@georgebrown.ca\"\n",
    "    }\n",
    "\n",
    "    Example 2:\n",
    "    Input:\n",
    "    Contact Us\n",
    "    School of Computer Technology\n",
    "    Phone: 416-415-5000, ext. 4287\n",
    "    Email:\n",
    "    computertechnology@georgebrown.ca\n",
    "    The office hours are:\n",
    "    Monday – Friday: 9 a.m. – 4 p.m.\n",
    "    Program Co-ordinator: Moe Fadaee\n",
    "    Email:\n",
    "    Moe.Fadaee@georgebrown.ca\n",
    "    Phone: 416-415-5000, ext. 3229\n",
    "\n",
    "    Output:\n",
    "    {\n",
    "    \"Contact\": \"School of Computer Technology\",\n",
    "    \"Contact email\": \"computertechnology@georgebrown.ca\",\n",
    "    \"Phone\": \"416-415-5000, ext. 4287\",\n",
    "    \"Office Hours\": \"Monday – Friday: 9 a.m. – 4 p.m.\",\n",
    "    \"Program Co-ordinator\": \"Moe Fadaee\",\n",
    "    \"Co-ordinator email\": \"Moe.Fadaee@georgebrown.ca\",\n",
    "    \"Co-ordinator Phone\": \"416-415-5000, ext. 3229\"\n",
    "    }\n",
    "\n",
    "    Now, extract the key information from the following text:\"\"\"\n",
    "    llm1 =  Ollama(\n",
    "    model=\"mistral\",\n",
    "    base_url=base_url1\n",
    "    )\n",
    "\n",
    "    parser = JsonOutputParser()\n",
    "    prompt = PromptTemplate(\n",
    "        template=\"{prompt_temp}.\\n{format_instructions}\\n{query}\\n\",\n",
    "        input_variables=[\"query\"],\n",
    "        partial_variables={\"format_instructions\": parser.get_format_instructions()},\n",
    "    )\n",
    "    chain = prompt | llm1 | parser\n",
    "\n",
    "    contact_info = chain.invoke({ \"prompt_temp\":prompt_temp1 ,\"query\": chunk })\n",
    "    return contact_info\n"
   ]
  },
  {
   "cell_type": "code",
   "execution_count": 21,
   "metadata": {},
   "outputs": [],
   "source": [
    "uns1 = \"\"\"\"Contact Us\n",
    "School of Mechanical Engineering Technologies\n",
    "Phone: 416-415-5000, ext. 4365\n",
    "Email:\n",
    "engineeringtech@georgebrown.ca\n",
    "Our office hours are 8 a.m. – 4 p.m., room D305\"\"\"\n",
    "\n",
    "uns2 = \"\"\"Contact Us\n",
    "DOMESTIC STUDENT ADMISSIONS\n",
    "For inquiries about domestic admission requirements, admission deadlines or the admissions process, please contact the Admissions Office at\n",
    "admissions@georgebrown.ca\n",
    "or visit the\n",
    "Admissions web page\n",
    ".\n",
    "FINANCIAL/FEES\n",
    "For inquiries about OSAP, bursaries, scholarships and other financial inquiries, please contact the Financial Aid Office at\n",
    "FinAid@georgebrown.ca\n",
    "or visit the\n",
    "Financial Aid web page\n",
    ".\n",
    "Advanced Wine and Beverage Business Management (postgraduate) (H414)\n",
    "For general School of Hospitality and Tourism Management related inquiries, please contact\n",
    "chcastudentsupport@georgebrown.ca.\"\"\"\n",
    "\n",
    "uns3 = \"\"\"Contact Us\n",
    "DOMESTIC STUDENT ADMISSIONS\n",
    "For inquiries about domestic admission requirements, admission deadlines or the admissions process, please contact the Admissions Office at\n",
    "admissions@georgebrown.ca\n",
    "or visit the\n",
    "Admissions web page\n",
    ".\n",
    "FINANCIAL/FEES\n",
    "For inquiries about OSAP, bursaries, scholarships and other financial inquiries, please contact the Financial Aid Office at\n",
    "FinAid@georgebrown.ca\n",
    "or visit the\n",
    "Financial Aid web page\n",
    ".\n",
    "ADVANCED FRENCH PATISSERIE (H413)\n",
    "For general Chef School inquiries, please contact\n",
    "CHCAStudentSupport@georgebrown.ca\"\"\""
   ]
  },
  {
   "cell_type": "code",
   "execution_count": 22,
   "metadata": {},
   "outputs": [],
   "source": [
    "unstructured_text = \"\"\"\n",
    "Contact Us\n",
    "School of Architectural Studies\n",
    "Phone: 416-415-5000, ext. 4365\n",
    "Email:\n",
    "architecturalstudies@georgebrown.ca\n",
    "\"\"\"\n",
    "\n",
    "base_url1 = \"https://7f09-35-240-188-58.ngrok-free.app\"\n"
   ]
  },
  {
   "cell_type": "code",
   "execution_count": 23,
   "metadata": {},
   "outputs": [
    {
     "name": "stdout",
     "output_type": "stream",
     "text": [
      "{'Contact': 'School of Architectural Studies', 'Contact email': 'architecturalstudies@georgebrown.ca', 'Phone': '416-415-5000, ext. 4365'}\n"
     ]
    }
   ],
   "source": [
    "print(extract_contact(base_url1,unstructured_text))"
   ]
  },
  {
   "cell_type": "code",
   "execution_count": 24,
   "metadata": {},
   "outputs": [
    {
     "ename": "OutputParserException",
     "evalue": "Invalid json output: or visit the George Brown College Centre for Hospitality and Culinary Arts website at:\n[www.georgebrown.ca/chca](http://www.georgebrown.ca/chca)\n\nFor specific inquiries regarding the Advanced French Patisserie program (H413), please contact the Program Coordinator at:\nAdvancedFrenchPat@georgebrown.ca\n\nInternational Students\nFor international students' admission requirements, application procedures, and other related information, please visit the International Centre website at:\n[www.georgebrown.ca/ic](http://www.georgebrown.ca/ic)\n\nOr contact the International Centre by email at:\ninternational@georgebrown.ca\n\nFor inquiries regarding the application process for a Post-Graduate Work Permit (PGWP), please visit:\n[www.georgebrown.ca/pgwp](http://www.georgebrown.ca/pgwp)\nor contact the PGWP Team at:\npgwp@georgebrown.ca\n\nFor inquiries about international student fees, scholarships, and other financial matters, please visit the International Students Financial Services website at:\n[www.georgebrown.ca/isfs](http://www.georgebrown.ca/isfs)\nor contact the International Students Financial Services team at:\nisfinance@georgebrown.ca\n\nI hope this information helps! Let me know if you have any other questions or need further clarification.",
     "output_type": "error",
     "traceback": [
      "\u001b[1;31m---------------------------------------------------------------------------\u001b[0m",
      "\u001b[1;31mJSONDecodeError\u001b[0m                           Traceback (most recent call last)",
      "File \u001b[1;32mc:\\Users\\jaivi\\Downloads\\Jai Data Science Canada\\GBC\\DL1\\GeorgeBrownGPT\\.venv\\lib\\site-packages\\langchain_core\\output_parsers\\json.py:212\u001b[0m, in \u001b[0;36mJsonOutputParser.parse_result\u001b[1;34m(self, result, partial)\u001b[0m\n\u001b[0;32m    211\u001b[0m \u001b[38;5;28;01mtry\u001b[39;00m:\n\u001b[1;32m--> 212\u001b[0m     \u001b[38;5;28;01mreturn\u001b[39;00m \u001b[43mparse_json_markdown\u001b[49m\u001b[43m(\u001b[49m\u001b[43mtext\u001b[49m\u001b[43m)\u001b[49m\n\u001b[0;32m    213\u001b[0m \u001b[38;5;28;01mexcept\u001b[39;00m JSONDecodeError \u001b[38;5;28;01mas\u001b[39;00m e:\n",
      "File \u001b[1;32mc:\\Users\\jaivi\\Downloads\\Jai Data Science Canada\\GBC\\DL1\\GeorgeBrownGPT\\.venv\\lib\\site-packages\\langchain_core\\output_parsers\\json.py:157\u001b[0m, in \u001b[0;36mparse_json_markdown\u001b[1;34m(json_string, parser)\u001b[0m\n\u001b[0;32m    156\u001b[0m \u001b[38;5;66;03m# Parse the JSON string into a Python dictionary\u001b[39;00m\n\u001b[1;32m--> 157\u001b[0m parsed \u001b[38;5;241m=\u001b[39m \u001b[43mparser\u001b[49m\u001b[43m(\u001b[49m\u001b[43mjson_str\u001b[49m\u001b[43m)\u001b[49m\n\u001b[0;32m    159\u001b[0m \u001b[38;5;28;01mreturn\u001b[39;00m parsed\n",
      "File \u001b[1;32mc:\\Users\\jaivi\\Downloads\\Jai Data Science Canada\\GBC\\DL1\\GeorgeBrownGPT\\.venv\\lib\\site-packages\\langchain_core\\output_parsers\\json.py:125\u001b[0m, in \u001b[0;36mparse_partial_json\u001b[1;34m(s, strict)\u001b[0m\n\u001b[0;32m    122\u001b[0m \u001b[38;5;66;03m# If we got here, we ran out of characters to remove\u001b[39;00m\n\u001b[0;32m    123\u001b[0m \u001b[38;5;66;03m# and still couldn't parse the string as JSON, so return the parse error\u001b[39;00m\n\u001b[0;32m    124\u001b[0m \u001b[38;5;66;03m# for the original string.\u001b[39;00m\n\u001b[1;32m--> 125\u001b[0m \u001b[38;5;28;01mreturn\u001b[39;00m \u001b[43mjson\u001b[49m\u001b[38;5;241;43m.\u001b[39;49m\u001b[43mloads\u001b[49m\u001b[43m(\u001b[49m\u001b[43ms\u001b[49m\u001b[43m,\u001b[49m\u001b[43m \u001b[49m\u001b[43mstrict\u001b[49m\u001b[38;5;241;43m=\u001b[39;49m\u001b[43mstrict\u001b[49m\u001b[43m)\u001b[49m\n",
      "File \u001b[1;32m~\\AppData\\Local\\Programs\\Python\\Python39\\lib\\json\\__init__.py:359\u001b[0m, in \u001b[0;36mloads\u001b[1;34m(s, cls, object_hook, parse_float, parse_int, parse_constant, object_pairs_hook, **kw)\u001b[0m\n\u001b[0;32m    358\u001b[0m     kw[\u001b[38;5;124m'\u001b[39m\u001b[38;5;124mparse_constant\u001b[39m\u001b[38;5;124m'\u001b[39m] \u001b[38;5;241m=\u001b[39m parse_constant\n\u001b[1;32m--> 359\u001b[0m \u001b[38;5;28;01mreturn\u001b[39;00m \u001b[38;5;28;43mcls\u001b[39;49m\u001b[43m(\u001b[49m\u001b[38;5;241;43m*\u001b[39;49m\u001b[38;5;241;43m*\u001b[39;49m\u001b[43mkw\u001b[49m\u001b[43m)\u001b[49m\u001b[38;5;241;43m.\u001b[39;49m\u001b[43mdecode\u001b[49m\u001b[43m(\u001b[49m\u001b[43ms\u001b[49m\u001b[43m)\u001b[49m\n",
      "File \u001b[1;32m~\\AppData\\Local\\Programs\\Python\\Python39\\lib\\json\\decoder.py:337\u001b[0m, in \u001b[0;36mJSONDecoder.decode\u001b[1;34m(self, s, _w)\u001b[0m\n\u001b[0;32m    333\u001b[0m \u001b[38;5;250m\u001b[39m\u001b[38;5;124;03m\"\"\"Return the Python representation of ``s`` (a ``str`` instance\u001b[39;00m\n\u001b[0;32m    334\u001b[0m \u001b[38;5;124;03mcontaining a JSON document).\u001b[39;00m\n\u001b[0;32m    335\u001b[0m \n\u001b[0;32m    336\u001b[0m \u001b[38;5;124;03m\"\"\"\u001b[39;00m\n\u001b[1;32m--> 337\u001b[0m obj, end \u001b[38;5;241m=\u001b[39m \u001b[38;5;28;43mself\u001b[39;49m\u001b[38;5;241;43m.\u001b[39;49m\u001b[43mraw_decode\u001b[49m\u001b[43m(\u001b[49m\u001b[43ms\u001b[49m\u001b[43m,\u001b[49m\u001b[43m \u001b[49m\u001b[43midx\u001b[49m\u001b[38;5;241;43m=\u001b[39;49m\u001b[43m_w\u001b[49m\u001b[43m(\u001b[49m\u001b[43ms\u001b[49m\u001b[43m,\u001b[49m\u001b[43m \u001b[49m\u001b[38;5;241;43m0\u001b[39;49m\u001b[43m)\u001b[49m\u001b[38;5;241;43m.\u001b[39;49m\u001b[43mend\u001b[49m\u001b[43m(\u001b[49m\u001b[43m)\u001b[49m\u001b[43m)\u001b[49m\n\u001b[0;32m    338\u001b[0m end \u001b[38;5;241m=\u001b[39m _w(s, end)\u001b[38;5;241m.\u001b[39mend()\n",
      "File \u001b[1;32m~\\AppData\\Local\\Programs\\Python\\Python39\\lib\\json\\decoder.py:355\u001b[0m, in \u001b[0;36mJSONDecoder.raw_decode\u001b[1;34m(self, s, idx)\u001b[0m\n\u001b[0;32m    354\u001b[0m \u001b[38;5;28;01mexcept\u001b[39;00m \u001b[38;5;167;01mStopIteration\u001b[39;00m \u001b[38;5;28;01mas\u001b[39;00m err:\n\u001b[1;32m--> 355\u001b[0m     \u001b[38;5;28;01mraise\u001b[39;00m JSONDecodeError(\u001b[38;5;124m\"\u001b[39m\u001b[38;5;124mExpecting value\u001b[39m\u001b[38;5;124m\"\u001b[39m, s, err\u001b[38;5;241m.\u001b[39mvalue) \u001b[38;5;28;01mfrom\u001b[39;00m \u001b[38;5;28;01mNone\u001b[39;00m\n\u001b[0;32m    356\u001b[0m \u001b[38;5;28;01mreturn\u001b[39;00m obj, end\n",
      "\u001b[1;31mJSONDecodeError\u001b[0m: Expecting value: line 1 column 1 (char 0)",
      "\nThe above exception was the direct cause of the following exception:\n",
      "\u001b[1;31mOutputParserException\u001b[0m                     Traceback (most recent call last)",
      "Cell \u001b[1;32mIn[24], line 1\u001b[0m\n\u001b[1;32m----> 1\u001b[0m \u001b[38;5;28mprint\u001b[39m(\u001b[43mextract_contact\u001b[49m\u001b[43m(\u001b[49m\u001b[43mbase_url1\u001b[49m\u001b[43m,\u001b[49m\u001b[43muns3\u001b[49m\u001b[43m)\u001b[49m)\n",
      "Cell \u001b[1;32mIn[20], line 64\u001b[0m, in \u001b[0;36mextract_contact\u001b[1;34m(base_url1, chunk)\u001b[0m\n\u001b[0;32m     57\u001b[0m prompt \u001b[38;5;241m=\u001b[39m PromptTemplate(\n\u001b[0;32m     58\u001b[0m     template\u001b[38;5;241m=\u001b[39m\u001b[38;5;124m\"\u001b[39m\u001b[38;5;132;01m{prompt_temp}\u001b[39;00m\u001b[38;5;124m.\u001b[39m\u001b[38;5;130;01m\\n\u001b[39;00m\u001b[38;5;132;01m{format_instructions}\u001b[39;00m\u001b[38;5;130;01m\\n\u001b[39;00m\u001b[38;5;132;01m{query}\u001b[39;00m\u001b[38;5;130;01m\\n\u001b[39;00m\u001b[38;5;124m\"\u001b[39m,\n\u001b[0;32m     59\u001b[0m     input_variables\u001b[38;5;241m=\u001b[39m[\u001b[38;5;124m\"\u001b[39m\u001b[38;5;124mquery\u001b[39m\u001b[38;5;124m\"\u001b[39m],\n\u001b[0;32m     60\u001b[0m     partial_variables\u001b[38;5;241m=\u001b[39m{\u001b[38;5;124m\"\u001b[39m\u001b[38;5;124mformat_instructions\u001b[39m\u001b[38;5;124m\"\u001b[39m: parser\u001b[38;5;241m.\u001b[39mget_format_instructions()},\n\u001b[0;32m     61\u001b[0m )\n\u001b[0;32m     62\u001b[0m chain \u001b[38;5;241m=\u001b[39m prompt \u001b[38;5;241m|\u001b[39m llm1 \u001b[38;5;241m|\u001b[39m parser\n\u001b[1;32m---> 64\u001b[0m contact_info \u001b[38;5;241m=\u001b[39m \u001b[43mchain\u001b[49m\u001b[38;5;241;43m.\u001b[39;49m\u001b[43minvoke\u001b[49m\u001b[43m(\u001b[49m\u001b[43m{\u001b[49m\u001b[43m \u001b[49m\u001b[38;5;124;43m\"\u001b[39;49m\u001b[38;5;124;43mprompt_temp\u001b[39;49m\u001b[38;5;124;43m\"\u001b[39;49m\u001b[43m:\u001b[49m\u001b[43mprompt_temp1\u001b[49m\u001b[43m \u001b[49m\u001b[43m,\u001b[49m\u001b[38;5;124;43m\"\u001b[39;49m\u001b[38;5;124;43mquery\u001b[39;49m\u001b[38;5;124;43m\"\u001b[39;49m\u001b[43m:\u001b[49m\u001b[43m \u001b[49m\u001b[43mchunk\u001b[49m\u001b[43m \u001b[49m\u001b[43m}\u001b[49m\u001b[43m)\u001b[49m\n\u001b[0;32m     65\u001b[0m \u001b[38;5;28;01mreturn\u001b[39;00m contact_info\n",
      "File \u001b[1;32mc:\\Users\\jaivi\\Downloads\\Jai Data Science Canada\\GBC\\DL1\\GeorgeBrownGPT\\.venv\\lib\\site-packages\\langchain_core\\runnables\\base.py:2053\u001b[0m, in \u001b[0;36mRunnableSequence.invoke\u001b[1;34m(self, input, config)\u001b[0m\n\u001b[0;32m   2051\u001b[0m \u001b[38;5;28;01mtry\u001b[39;00m:\n\u001b[0;32m   2052\u001b[0m     \u001b[38;5;28;01mfor\u001b[39;00m i, step \u001b[38;5;129;01min\u001b[39;00m \u001b[38;5;28menumerate\u001b[39m(\u001b[38;5;28mself\u001b[39m\u001b[38;5;241m.\u001b[39msteps):\n\u001b[1;32m-> 2053\u001b[0m         \u001b[38;5;28minput\u001b[39m \u001b[38;5;241m=\u001b[39m \u001b[43mstep\u001b[49m\u001b[38;5;241;43m.\u001b[39;49m\u001b[43minvoke\u001b[49m\u001b[43m(\u001b[49m\n\u001b[0;32m   2054\u001b[0m \u001b[43m            \u001b[49m\u001b[38;5;28;43minput\u001b[39;49m\u001b[43m,\u001b[49m\n\u001b[0;32m   2055\u001b[0m \u001b[43m            \u001b[49m\u001b[38;5;66;43;03m# mark each step as a child run\u001b[39;49;00m\n\u001b[0;32m   2056\u001b[0m \u001b[43m            \u001b[49m\u001b[43mpatch_config\u001b[49m\u001b[43m(\u001b[49m\n\u001b[0;32m   2057\u001b[0m \u001b[43m                \u001b[49m\u001b[43mconfig\u001b[49m\u001b[43m,\u001b[49m\u001b[43m \u001b[49m\u001b[43mcallbacks\u001b[49m\u001b[38;5;241;43m=\u001b[39;49m\u001b[43mrun_manager\u001b[49m\u001b[38;5;241;43m.\u001b[39;49m\u001b[43mget_child\u001b[49m\u001b[43m(\u001b[49m\u001b[38;5;124;43mf\u001b[39;49m\u001b[38;5;124;43m\"\u001b[39;49m\u001b[38;5;124;43mseq:step:\u001b[39;49m\u001b[38;5;132;43;01m{\u001b[39;49;00m\u001b[43mi\u001b[49m\u001b[38;5;241;43m+\u001b[39;49m\u001b[38;5;241;43m1\u001b[39;49m\u001b[38;5;132;43;01m}\u001b[39;49;00m\u001b[38;5;124;43m\"\u001b[39;49m\u001b[43m)\u001b[49m\n\u001b[0;32m   2058\u001b[0m \u001b[43m            \u001b[49m\u001b[43m)\u001b[49m\u001b[43m,\u001b[49m\n\u001b[0;32m   2059\u001b[0m \u001b[43m        \u001b[49m\u001b[43m)\u001b[49m\n\u001b[0;32m   2060\u001b[0m \u001b[38;5;66;03m# finish the root run\u001b[39;00m\n\u001b[0;32m   2061\u001b[0m \u001b[38;5;28;01mexcept\u001b[39;00m \u001b[38;5;167;01mBaseException\u001b[39;00m \u001b[38;5;28;01mas\u001b[39;00m e:\n",
      "File \u001b[1;32mc:\\Users\\jaivi\\Downloads\\Jai Data Science Canada\\GBC\\DL1\\GeorgeBrownGPT\\.venv\\lib\\site-packages\\langchain_core\\output_parsers\\base.py:176\u001b[0m, in \u001b[0;36mBaseOutputParser.invoke\u001b[1;34m(self, input, config)\u001b[0m\n\u001b[0;32m    167\u001b[0m     \u001b[38;5;28;01mreturn\u001b[39;00m \u001b[38;5;28mself\u001b[39m\u001b[38;5;241m.\u001b[39m_call_with_config(\n\u001b[0;32m    168\u001b[0m         \u001b[38;5;28;01mlambda\u001b[39;00m inner_input: \u001b[38;5;28mself\u001b[39m\u001b[38;5;241m.\u001b[39mparse_result(\n\u001b[0;32m    169\u001b[0m             [ChatGeneration(message\u001b[38;5;241m=\u001b[39minner_input)]\n\u001b[1;32m   (...)\u001b[0m\n\u001b[0;32m    173\u001b[0m         run_type\u001b[38;5;241m=\u001b[39m\u001b[38;5;124m\"\u001b[39m\u001b[38;5;124mparser\u001b[39m\u001b[38;5;124m\"\u001b[39m,\n\u001b[0;32m    174\u001b[0m     )\n\u001b[0;32m    175\u001b[0m \u001b[38;5;28;01melse\u001b[39;00m:\n\u001b[1;32m--> 176\u001b[0m     \u001b[38;5;28;01mreturn\u001b[39;00m \u001b[38;5;28;43mself\u001b[39;49m\u001b[38;5;241;43m.\u001b[39;49m\u001b[43m_call_with_config\u001b[49m\u001b[43m(\u001b[49m\n\u001b[0;32m    177\u001b[0m \u001b[43m        \u001b[49m\u001b[38;5;28;43;01mlambda\u001b[39;49;00m\u001b[43m \u001b[49m\u001b[43minner_input\u001b[49m\u001b[43m:\u001b[49m\u001b[43m \u001b[49m\u001b[38;5;28;43mself\u001b[39;49m\u001b[38;5;241;43m.\u001b[39;49m\u001b[43mparse_result\u001b[49m\u001b[43m(\u001b[49m\u001b[43m[\u001b[49m\u001b[43mGeneration\u001b[49m\u001b[43m(\u001b[49m\u001b[43mtext\u001b[49m\u001b[38;5;241;43m=\u001b[39;49m\u001b[43minner_input\u001b[49m\u001b[43m)\u001b[49m\u001b[43m]\u001b[49m\u001b[43m)\u001b[49m\u001b[43m,\u001b[49m\n\u001b[0;32m    178\u001b[0m \u001b[43m        \u001b[49m\u001b[38;5;28;43minput\u001b[39;49m\u001b[43m,\u001b[49m\n\u001b[0;32m    179\u001b[0m \u001b[43m        \u001b[49m\u001b[43mconfig\u001b[49m\u001b[43m,\u001b[49m\n\u001b[0;32m    180\u001b[0m \u001b[43m        \u001b[49m\u001b[43mrun_type\u001b[49m\u001b[38;5;241;43m=\u001b[39;49m\u001b[38;5;124;43m\"\u001b[39;49m\u001b[38;5;124;43mparser\u001b[39;49m\u001b[38;5;124;43m\"\u001b[39;49m\u001b[43m,\u001b[49m\n\u001b[0;32m    181\u001b[0m \u001b[43m    \u001b[49m\u001b[43m)\u001b[49m\n",
      "File \u001b[1;32mc:\\Users\\jaivi\\Downloads\\Jai Data Science Canada\\GBC\\DL1\\GeorgeBrownGPT\\.venv\\lib\\site-packages\\langchain_core\\runnables\\base.py:1246\u001b[0m, in \u001b[0;36mRunnable._call_with_config\u001b[1;34m(self, func, input, config, run_type, **kwargs)\u001b[0m\n\u001b[0;32m   1242\u001b[0m     context \u001b[38;5;241m=\u001b[39m copy_context()\n\u001b[0;32m   1243\u001b[0m     context\u001b[38;5;241m.\u001b[39mrun(var_child_runnable_config\u001b[38;5;241m.\u001b[39mset, child_config)\n\u001b[0;32m   1244\u001b[0m     output \u001b[38;5;241m=\u001b[39m cast(\n\u001b[0;32m   1245\u001b[0m         Output,\n\u001b[1;32m-> 1246\u001b[0m         context\u001b[38;5;241m.\u001b[39mrun(\n\u001b[0;32m   1247\u001b[0m             call_func_with_variable_args,\n\u001b[0;32m   1248\u001b[0m             func,  \u001b[38;5;66;03m# type: ignore[arg-type]\u001b[39;00m\n\u001b[0;32m   1249\u001b[0m             \u001b[38;5;28minput\u001b[39m,  \u001b[38;5;66;03m# type: ignore[arg-type]\u001b[39;00m\n\u001b[0;32m   1250\u001b[0m             config,\n\u001b[0;32m   1251\u001b[0m             run_manager,\n\u001b[0;32m   1252\u001b[0m             \u001b[38;5;241m*\u001b[39m\u001b[38;5;241m*\u001b[39mkwargs,\n\u001b[0;32m   1253\u001b[0m         ),\n\u001b[0;32m   1254\u001b[0m     )\n\u001b[0;32m   1255\u001b[0m \u001b[38;5;28;01mexcept\u001b[39;00m \u001b[38;5;167;01mBaseException\u001b[39;00m \u001b[38;5;28;01mas\u001b[39;00m e:\n\u001b[0;32m   1256\u001b[0m     run_manager\u001b[38;5;241m.\u001b[39mon_chain_error(e)\n",
      "File \u001b[1;32mc:\\Users\\jaivi\\Downloads\\Jai Data Science Canada\\GBC\\DL1\\GeorgeBrownGPT\\.venv\\lib\\site-packages\\langchain_core\\runnables\\config.py:326\u001b[0m, in \u001b[0;36mcall_func_with_variable_args\u001b[1;34m(func, input, config, run_manager, **kwargs)\u001b[0m\n\u001b[0;32m    324\u001b[0m \u001b[38;5;28;01mif\u001b[39;00m run_manager \u001b[38;5;129;01mis\u001b[39;00m \u001b[38;5;129;01mnot\u001b[39;00m \u001b[38;5;28;01mNone\u001b[39;00m \u001b[38;5;129;01mand\u001b[39;00m accepts_run_manager(func):\n\u001b[0;32m    325\u001b[0m     kwargs[\u001b[38;5;124m\"\u001b[39m\u001b[38;5;124mrun_manager\u001b[39m\u001b[38;5;124m\"\u001b[39m] \u001b[38;5;241m=\u001b[39m run_manager\n\u001b[1;32m--> 326\u001b[0m \u001b[38;5;28;01mreturn\u001b[39;00m func(\u001b[38;5;28minput\u001b[39m, \u001b[38;5;241m*\u001b[39m\u001b[38;5;241m*\u001b[39mkwargs)\n",
      "File \u001b[1;32mc:\\Users\\jaivi\\Downloads\\Jai Data Science Canada\\GBC\\DL1\\GeorgeBrownGPT\\.venv\\lib\\site-packages\\langchain_core\\output_parsers\\base.py:177\u001b[0m, in \u001b[0;36mBaseOutputParser.invoke.<locals>.<lambda>\u001b[1;34m(inner_input)\u001b[0m\n\u001b[0;32m    167\u001b[0m     \u001b[38;5;28;01mreturn\u001b[39;00m \u001b[38;5;28mself\u001b[39m\u001b[38;5;241m.\u001b[39m_call_with_config(\n\u001b[0;32m    168\u001b[0m         \u001b[38;5;28;01mlambda\u001b[39;00m inner_input: \u001b[38;5;28mself\u001b[39m\u001b[38;5;241m.\u001b[39mparse_result(\n\u001b[0;32m    169\u001b[0m             [ChatGeneration(message\u001b[38;5;241m=\u001b[39minner_input)]\n\u001b[1;32m   (...)\u001b[0m\n\u001b[0;32m    173\u001b[0m         run_type\u001b[38;5;241m=\u001b[39m\u001b[38;5;124m\"\u001b[39m\u001b[38;5;124mparser\u001b[39m\u001b[38;5;124m\"\u001b[39m,\n\u001b[0;32m    174\u001b[0m     )\n\u001b[0;32m    175\u001b[0m \u001b[38;5;28;01melse\u001b[39;00m:\n\u001b[0;32m    176\u001b[0m     \u001b[38;5;28;01mreturn\u001b[39;00m \u001b[38;5;28mself\u001b[39m\u001b[38;5;241m.\u001b[39m_call_with_config(\n\u001b[1;32m--> 177\u001b[0m         \u001b[38;5;28;01mlambda\u001b[39;00m inner_input: \u001b[38;5;28;43mself\u001b[39;49m\u001b[38;5;241;43m.\u001b[39;49m\u001b[43mparse_result\u001b[49m\u001b[43m(\u001b[49m\u001b[43m[\u001b[49m\u001b[43mGeneration\u001b[49m\u001b[43m(\u001b[49m\u001b[43mtext\u001b[49m\u001b[38;5;241;43m=\u001b[39;49m\u001b[43minner_input\u001b[49m\u001b[43m)\u001b[49m\u001b[43m]\u001b[49m\u001b[43m)\u001b[49m,\n\u001b[0;32m    178\u001b[0m         \u001b[38;5;28minput\u001b[39m,\n\u001b[0;32m    179\u001b[0m         config,\n\u001b[0;32m    180\u001b[0m         run_type\u001b[38;5;241m=\u001b[39m\u001b[38;5;124m\"\u001b[39m\u001b[38;5;124mparser\u001b[39m\u001b[38;5;124m\"\u001b[39m,\n\u001b[0;32m    181\u001b[0m     )\n",
      "File \u001b[1;32mc:\\Users\\jaivi\\Downloads\\Jai Data Science Canada\\GBC\\DL1\\GeorgeBrownGPT\\.venv\\lib\\site-packages\\langchain_core\\output_parsers\\json.py:214\u001b[0m, in \u001b[0;36mJsonOutputParser.parse_result\u001b[1;34m(self, result, partial)\u001b[0m\n\u001b[0;32m    212\u001b[0m     \u001b[38;5;28;01mreturn\u001b[39;00m parse_json_markdown(text)\n\u001b[0;32m    213\u001b[0m \u001b[38;5;28;01mexcept\u001b[39;00m JSONDecodeError \u001b[38;5;28;01mas\u001b[39;00m e:\n\u001b[1;32m--> 214\u001b[0m     \u001b[38;5;28;01mraise\u001b[39;00m OutputParserException(\u001b[38;5;124mf\u001b[39m\u001b[38;5;124m\"\u001b[39m\u001b[38;5;124mInvalid json output: \u001b[39m\u001b[38;5;132;01m{\u001b[39;00mtext\u001b[38;5;132;01m}\u001b[39;00m\u001b[38;5;124m\"\u001b[39m) \u001b[38;5;28;01mfrom\u001b[39;00m \u001b[38;5;21;01me\u001b[39;00m\n",
      "\u001b[1;31mOutputParserException\u001b[0m: Invalid json output: or visit the George Brown College Centre for Hospitality and Culinary Arts website at:\n[www.georgebrown.ca/chca](http://www.georgebrown.ca/chca)\n\nFor specific inquiries regarding the Advanced French Patisserie program (H413), please contact the Program Coordinator at:\nAdvancedFrenchPat@georgebrown.ca\n\nInternational Students\nFor international students' admission requirements, application procedures, and other related information, please visit the International Centre website at:\n[www.georgebrown.ca/ic](http://www.georgebrown.ca/ic)\n\nOr contact the International Centre by email at:\ninternational@georgebrown.ca\n\nFor inquiries regarding the application process for a Post-Graduate Work Permit (PGWP), please visit:\n[www.georgebrown.ca/pgwp](http://www.georgebrown.ca/pgwp)\nor contact the PGWP Team at:\npgwp@georgebrown.ca\n\nFor inquiries about international student fees, scholarships, and other financial matters, please visit the International Students Financial Services website at:\n[www.georgebrown.ca/isfs](http://www.georgebrown.ca/isfs)\nor contact the International Students Financial Services team at:\nisfinance@georgebrown.ca\n\nI hope this information helps! Let me know if you have any other questions or need further clarification."
     ]
    }
   ],
   "source": [
    "print(extract_contact(base_url1,uns3))"
   ]
  },
  {
   "cell_type": "code",
   "execution_count": null,
   "metadata": {},
   "outputs": [
    {
     "name": "stdout",
     "output_type": "stream",
     "text": [
      "{'Contact': 'School of Mechanical Engineering Technologies', 'Contact email': 'engineeringtech@georgebrown.ca', 'Phone': '416-415-5000, ext. 4365', 'Office Hours': '8 a.m. – 4 p.m.', 'Room Number': 'D305'}\n"
     ]
    }
   ],
   "source": [
    "print(extract_contact(base_url1,uns1))"
   ]
  },
  {
   "cell_type": "markdown",
   "metadata": {},
   "source": [
    "llm1 =  Ollama(\n",
    "model=\"mistral\",\n",
    "base_url=\"https://e590-35-247-83-61.ngrok-free.app\"\n",
    ")"
   ]
  },
  {
   "cell_type": "markdown",
   "metadata": {},
   "source": [
    "parser = JsonOutputParser()\n",
    "prompt = PromptTemplate(\n",
    "    template=\"{prompt_temp}.\\n{format_instructions}\\n{query}\\n\",\n",
    "    input_variables=[\"query\"],\n",
    "    partial_variables={\"format_instructions\": parser.get_format_instructions()},\n",
    ")\n",
    "chain = prompt | llm1 | parser\n",
    "chain"
   ]
  },
  {
   "cell_type": "markdown",
   "metadata": {},
   "source": [
    "unstructured_text = \"\"\"\n",
    "Contact Us\n",
    "School of Architectural Studies\n",
    "Phone: 416-415-5000, ext. 4365\n",
    "Email:\n",
    "architecturalstudies@georgebrown.ca\n",
    "\"\"\""
   ]
  },
  {
   "cell_type": "markdown",
   "metadata": {},
   "source": []
  },
  {
   "cell_type": "markdown",
   "metadata": {},
   "source": [
    "chain.invoke({ \"prompt_temp\":prompt_temp1 ,\"query\": unstructured_text })"
   ]
  }
 ],
 "metadata": {
  "kernelspec": {
   "display_name": ".venv",
   "language": "python",
   "name": "python3"
  },
  "language_info": {
   "codemirror_mode": {
    "name": "ipython",
    "version": 3
   },
   "file_extension": ".py",
   "mimetype": "text/x-python",
   "name": "python",
   "nbconvert_exporter": "python",
   "pygments_lexer": "ipython3",
   "version": "3.9.13"
  }
 },
 "nbformat": 4,
 "nbformat_minor": 2
}
